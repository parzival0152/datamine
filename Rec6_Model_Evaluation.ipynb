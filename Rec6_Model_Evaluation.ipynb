{
 "cells": [
  {
   "cell_type": "markdown",
   "metadata": {},
   "source": [
    "# Classification and Model Evaluation"
   ]
  },
  {
   "cell_type": "markdown",
   "metadata": {},
   "source": [
    "In this lesson, we will use cross-validation and evaluation metrics to compare two models."
   ]
  },
  {
   "cell_type": "code",
   "execution_count": 1,
   "metadata": {},
   "outputs": [],
   "source": [
    "import numpy as np\n",
    "import pandas as pd\n",
    "import matplotlib.pyplot as plt\n",
    "from sklearn.model_selection import train_test_split \n",
    "from sklearn.naive_bayes import GaussianNB \n",
    "from sklearn import metrics \n",
    "from sklearn import svm\n",
    "from sklearn.model_selection import KFold \n",
    "from scipy import stats "
   ]
  },
  {
   "cell_type": "code",
   "execution_count": 2,
   "metadata": {},
   "outputs": [
    {
     "data": {
      "text/html": [
       "<div>\n",
       "<style scoped>\n",
       "    .dataframe tbody tr th:only-of-type {\n",
       "        vertical-align: middle;\n",
       "    }\n",
       "\n",
       "    .dataframe tbody tr th {\n",
       "        vertical-align: top;\n",
       "    }\n",
       "\n",
       "    .dataframe thead th {\n",
       "        text-align: right;\n",
       "    }\n",
       "</style>\n",
       "<table border=\"1\" class=\"dataframe\">\n",
       "  <thead>\n",
       "    <tr style=\"text-align: right;\">\n",
       "      <th></th>\n",
       "      <th>Survived</th>\n",
       "      <th>Pclass</th>\n",
       "      <th>SibSp</th>\n",
       "      <th>Parch</th>\n",
       "      <th>Sex_cat</th>\n",
       "      <th>Embarked_cat</th>\n",
       "      <th>Title_cat</th>\n",
       "      <th>Is_Alone</th>\n",
       "      <th>Fare_min_max</th>\n",
       "      <th>Age_norm</th>\n",
       "    </tr>\n",
       "  </thead>\n",
       "  <tbody>\n",
       "    <tr>\n",
       "      <th>0</th>\n",
       "      <td>0</td>\n",
       "      <td>3</td>\n",
       "      <td>1</td>\n",
       "      <td>0</td>\n",
       "      <td>1</td>\n",
       "      <td>2</td>\n",
       "      <td>2</td>\n",
       "      <td>0</td>\n",
       "      <td>0.014151</td>\n",
       "      <td>-0.517838</td>\n",
       "    </tr>\n",
       "    <tr>\n",
       "      <th>1</th>\n",
       "      <td>1</td>\n",
       "      <td>1</td>\n",
       "      <td>1</td>\n",
       "      <td>0</td>\n",
       "      <td>0</td>\n",
       "      <td>0</td>\n",
       "      <td>3</td>\n",
       "      <td>0</td>\n",
       "      <td>0.139129</td>\n",
       "      <td>0.615799</td>\n",
       "    </tr>\n",
       "    <tr>\n",
       "      <th>2</th>\n",
       "      <td>1</td>\n",
       "      <td>3</td>\n",
       "      <td>0</td>\n",
       "      <td>0</td>\n",
       "      <td>0</td>\n",
       "      <td>2</td>\n",
       "      <td>1</td>\n",
       "      <td>1</td>\n",
       "      <td>0.015478</td>\n",
       "      <td>-0.234429</td>\n",
       "    </tr>\n",
       "    <tr>\n",
       "      <th>3</th>\n",
       "      <td>1</td>\n",
       "      <td>1</td>\n",
       "      <td>1</td>\n",
       "      <td>0</td>\n",
       "      <td>0</td>\n",
       "      <td>2</td>\n",
       "      <td>3</td>\n",
       "      <td>0</td>\n",
       "      <td>0.103644</td>\n",
       "      <td>0.403242</td>\n",
       "    </tr>\n",
       "    <tr>\n",
       "      <th>4</th>\n",
       "      <td>0</td>\n",
       "      <td>3</td>\n",
       "      <td>0</td>\n",
       "      <td>0</td>\n",
       "      <td>1</td>\n",
       "      <td>2</td>\n",
       "      <td>2</td>\n",
       "      <td>1</td>\n",
       "      <td>0.015713</td>\n",
       "      <td>0.403242</td>\n",
       "    </tr>\n",
       "  </tbody>\n",
       "</table>\n",
       "</div>"
      ],
      "text/plain": [
       "   Survived  Pclass  SibSp  Parch  Sex_cat  Embarked_cat  Title_cat  Is_Alone  \\\n",
       "0         0       3      1      0        1             2          2         0   \n",
       "1         1       1      1      0        0             0          3         0   \n",
       "2         1       3      0      0        0             2          1         1   \n",
       "3         1       1      1      0        0             2          3         0   \n",
       "4         0       3      0      0        1             2          2         1   \n",
       "\n",
       "   Fare_min_max  Age_norm  \n",
       "0      0.014151 -0.517838  \n",
       "1      0.139129  0.615799  \n",
       "2      0.015478 -0.234429  \n",
       "3      0.103644  0.403242  \n",
       "4      0.015713  0.403242  "
      ]
     },
     "execution_count": 2,
     "metadata": {},
     "output_type": "execute_result"
    }
   ],
   "source": [
    "df = pd.read_csv(\"./data/Titanic_final.csv\", index_col=0)\n",
    "df.head()"
   ]
  },
  {
   "cell_type": "code",
   "execution_count": 3,
   "metadata": {},
   "outputs": [],
   "source": [
    "X = df.drop(['Survived'], axis=1)\n",
    "y = df['Survived']\n",
    "X_train, X_test, y_train, y_test = train_test_split(X, y, test_size=0.25, random_state=42) "
   ]
  },
  {
   "cell_type": "markdown",
   "metadata": {},
   "source": [
    "### SVM classifier.\n",
    "Hyperparameter:\n",
    "- C: Regularization, a smaller value of C creates a small-margin hyperplane and a larger value of C creates a larger-margin hyperplane.\n",
    "- Kernel: The function that used to transform the original training data into a higher dimension."
   ]
  },
  {
   "cell_type": "code",
   "execution_count": 4,
   "metadata": {},
   "outputs": [
    {
     "name": "stdout",
     "output_type": "stream",
     "text": [
      "     0   1\n",
      "0  119  15\n",
      "1   22  67\n",
      "              precision    recall  f1-score   support\n",
      "\n",
      "           0       0.84      0.89      0.87       134\n",
      "           1       0.82      0.75      0.78        89\n",
      "\n",
      "    accuracy                           0.83       223\n",
      "   macro avg       0.83      0.82      0.82       223\n",
      "weighted avg       0.83      0.83      0.83       223\n",
      "\n"
     ]
    }
   ],
   "source": [
    "clf_a = svm.SVC(kernel='rbf', C=0.9, probability=True)\n",
    "clf_a.fit(X_train, y_train)\n",
    "y_pred = clf_a.predict(X_test)\n",
    "print(pd.DataFrame(metrics.confusion_matrix(y_test, y_pred)))\n",
    "print(metrics.classification_report(y_test,y_pred))"
   ]
  },
  {
   "cell_type": "markdown",
   "metadata": {},
   "source": [
    "### ROC curve"
   ]
  },
  {
   "cell_type": "code",
   "execution_count": 5,
   "metadata": {},
   "outputs": [
    {
     "data": {
      "image/png": "[encoded data removed]",
      "text/plain": [
       "<Figure size 432x288 with 1 Axes>"
      ]
     },
     "metadata": {
      "needs_background": "light"
     },
     "output_type": "display_data"
    }
   ],
   "source": [
    "y_probs_a = clf_a.predict_proba(X_test) # probability prediction\n",
    "fpr_a, tpr_a, threshold = metrics.roc_curve(y_test, y_probs_a[:,1])\n",
    "auc_a = metrics.auc(fpr_a, tpr_a)\n",
    "plt.figure()\n",
    "plt.plot(fpr_a, tpr_a, color='darkorange', label='ROC curve (area = %0.2f)' %  auc_a)\n",
    "plt.plot([0, 1], [0, 1], color='navy', lw=2, linestyle='--')\n",
    "plt.xlabel('False Positive Rate  (1-Specificity)')\n",
    "plt.ylabel('True Positive Rate (Sensitivity)')\n",
    "plt.legend(loc=\"lower right\")\n",
    "plt.show()"
   ]
  },
  {
   "cell_type": "code",
   "execution_count": 6,
   "metadata": {
    "scrolled": true
   },
   "outputs": [],
   "source": [
    "roc = pd.DataFrame({'fpr': fpr_a, 'tpr': tpr_a, 't': threshold})"
   ]
  },
  {
   "cell_type": "code",
   "execution_count": 7,
   "metadata": {},
   "outputs": [
    {
     "data": {
      "text/html": [
       "<div>\n",
       "<style scoped>\n",
       "    .dataframe tbody tr th:only-of-type {\n",
       "        vertical-align: middle;\n",
       "    }\n",
       "\n",
       "    .dataframe tbody tr th {\n",
       "        vertical-align: top;\n",
       "    }\n",
       "\n",
       "    .dataframe thead th {\n",
       "        text-align: right;\n",
       "    }\n",
       "</style>\n",
       "<table border=\"1\" class=\"dataframe\">\n",
       "  <thead>\n",
       "    <tr style=\"text-align: right;\">\n",
       "      <th></th>\n",
       "      <th>fpr</th>\n",
       "      <th>tpr</th>\n",
       "      <th>t</th>\n",
       "    </tr>\n",
       "  </thead>\n",
       "  <tbody>\n",
       "    <tr>\n",
       "      <th>0</th>\n",
       "      <td>0.000000</td>\n",
       "      <td>0.000000</td>\n",
       "      <td>1.891788</td>\n",
       "    </tr>\n",
       "    <tr>\n",
       "      <th>1</th>\n",
       "      <td>0.000000</td>\n",
       "      <td>0.011236</td>\n",
       "      <td>0.891788</td>\n",
       "    </tr>\n",
       "    <tr>\n",
       "      <th>2</th>\n",
       "      <td>0.000000</td>\n",
       "      <td>0.123596</td>\n",
       "      <td>0.866809</td>\n",
       "    </tr>\n",
       "    <tr>\n",
       "      <th>3</th>\n",
       "      <td>0.007463</td>\n",
       "      <td>0.123596</td>\n",
       "      <td>0.866553</td>\n",
       "    </tr>\n",
       "    <tr>\n",
       "      <th>4</th>\n",
       "      <td>0.007463</td>\n",
       "      <td>0.292135</td>\n",
       "      <td>0.854766</td>\n",
       "    </tr>\n",
       "  </tbody>\n",
       "</table>\n",
       "</div>"
      ],
      "text/plain": [
       "        fpr       tpr         t\n",
       "0  0.000000  0.000000  1.891788\n",
       "1  0.000000  0.011236  0.891788\n",
       "2  0.000000  0.123596  0.866809\n",
       "3  0.007463  0.123596  0.866553\n",
       "4  0.007463  0.292135  0.854766"
      ]
     },
     "execution_count": 7,
     "metadata": {},
     "output_type": "execute_result"
    }
   ],
   "source": [
    "roc.head()"
   ]
  },
  {
   "cell_type": "code",
   "execution_count": 8,
   "metadata": {
    "scrolled": true
   },
   "outputs": [
    {
     "data": {
      "text/html": [
       "<div>\n",
       "<style scoped>\n",
       "    .dataframe tbody tr th:only-of-type {\n",
       "        vertical-align: middle;\n",
       "    }\n",
       "\n",
       "    .dataframe tbody tr th {\n",
       "        vertical-align: top;\n",
       "    }\n",
       "\n",
       "    .dataframe thead th {\n",
       "        text-align: right;\n",
       "    }\n",
       "</style>\n",
       "<table border=\"1\" class=\"dataframe\">\n",
       "  <thead>\n",
       "    <tr style=\"text-align: right;\">\n",
       "      <th></th>\n",
       "      <th>fpr</th>\n",
       "      <th>tpr</th>\n",
       "      <th>t</th>\n",
       "    </tr>\n",
       "  </thead>\n",
       "  <tbody>\n",
       "    <tr>\n",
       "      <th>26</th>\n",
       "      <td>0.111940</td>\n",
       "      <td>0.752809</td>\n",
       "      <td>0.596840</td>\n",
       "    </tr>\n",
       "    <tr>\n",
       "      <th>27</th>\n",
       "      <td>0.134328</td>\n",
       "      <td>0.752809</td>\n",
       "      <td>0.314184</td>\n",
       "    </tr>\n",
       "    <tr>\n",
       "      <th>28</th>\n",
       "      <td>0.134328</td>\n",
       "      <td>0.764045</td>\n",
       "      <td>0.304002</td>\n",
       "    </tr>\n",
       "    <tr>\n",
       "      <th>29</th>\n",
       "      <td>0.194030</td>\n",
       "      <td>0.764045</td>\n",
       "      <td>0.224800</td>\n",
       "    </tr>\n",
       "    <tr>\n",
       "      <th>30</th>\n",
       "      <td>0.194030</td>\n",
       "      <td>0.775281</td>\n",
       "      <td>0.222610</td>\n",
       "    </tr>\n",
       "  </tbody>\n",
       "</table>\n",
       "</div>"
      ],
      "text/plain": [
       "         fpr       tpr         t\n",
       "26  0.111940  0.752809  0.596840\n",
       "27  0.134328  0.752809  0.314184\n",
       "28  0.134328  0.764045  0.304002\n",
       "29  0.194030  0.764045  0.224800\n",
       "30  0.194030  0.775281  0.222610"
      ]
     },
     "execution_count": 8,
     "metadata": {},
     "output_type": "execute_result"
    }
   ],
   "source": [
    "roc[roc['tpr']>0.75].head()"
   ]
  },
  {
   "cell_type": "markdown",
   "metadata": {},
   "source": [
    "### Naive Bayes classifier "
   ]
  },
  {
   "cell_type": "code",
   "execution_count": 9,
   "metadata": {},
   "outputs": [
    {
     "data": {
      "text/html": [
       "<div>\n",
       "<style scoped>\n",
       "    .dataframe tbody tr th:only-of-type {\n",
       "        vertical-align: middle;\n",
       "    }\n",
       "\n",
       "    .dataframe tbody tr th {\n",
       "        vertical-align: top;\n",
       "    }\n",
       "\n",
       "    .dataframe thead th {\n",
       "        text-align: right;\n",
       "    }\n",
       "</style>\n",
       "<table border=\"1\" class=\"dataframe\">\n",
       "  <thead>\n",
       "    <tr style=\"text-align: right;\">\n",
       "      <th></th>\n",
       "      <th>0</th>\n",
       "      <th>1</th>\n",
       "    </tr>\n",
       "  </thead>\n",
       "  <tbody>\n",
       "    <tr>\n",
       "      <th>0</th>\n",
       "      <td>104</td>\n",
       "      <td>30</td>\n",
       "    </tr>\n",
       "    <tr>\n",
       "      <th>1</th>\n",
       "      <td>19</td>\n",
       "      <td>70</td>\n",
       "    </tr>\n",
       "  </tbody>\n",
       "</table>\n",
       "</div>"
      ],
      "text/plain": [
       "     0   1\n",
       "0  104  30\n",
       "1   19  70"
      ]
     },
     "metadata": {},
     "output_type": "display_data"
    },
    {
     "name": "stdout",
     "output_type": "stream",
     "text": [
      "              precision    recall  f1-score   support\n",
      "\n",
      "           0       0.85      0.78      0.81       134\n",
      "           1       0.70      0.79      0.74        89\n",
      "\n",
      "    accuracy                           0.78       223\n",
      "   macro avg       0.77      0.78      0.78       223\n",
      "weighted avg       0.79      0.78      0.78       223\n",
      "\n"
     ]
    }
   ],
   "source": [
    "clf_b = GaussianNB()\n",
    "clf_b.fit(X_train, y_train)\n",
    "y_pred = clf_b.predict(X_test)\n",
    "display(pd.DataFrame(metrics.confusion_matrix(y_test, y_pred)))\n",
    "print(metrics.classification_report(y_test,y_pred))"
   ]
  },
  {
   "cell_type": "markdown",
   "metadata": {},
   "source": [
    "### ROC curve"
   ]
  },
  {
   "cell_type": "code",
   "execution_count": 10,
   "metadata": {},
   "outputs": [
    {
     "data": {
      "image/png": "[encoded data removed]",
      "text/plain": [
       "<Figure size 432x288 with 1 Axes>"
      ]
     },
     "metadata": {
      "needs_background": "light"
     },
     "output_type": "display_data"
    }
   ],
   "source": [
    "y_probs_b = clf_b.predict_proba(X_test) # probability prediction\n",
    "fpr_b, tpr_b, _ = metrics.roc_curve(y_test, y_probs_b[:,1])\n",
    "auc_b = metrics.auc(fpr_b, tpr_b)\n",
    "plt.figure()\n",
    "plt.plot(fpr_b, tpr_b, color='darkorange', label='ROC curve (area = %0.2f)' %  auc_b)\n",
    "plt.plot([0, 1], [0, 1], color='navy', linestyle='--')\n",
    "plt.xlabel('False Positive Rate  (1-Specificity)')\n",
    "plt.ylabel('True Positive Rate (Sensitivity)')\n",
    "plt.legend(loc=\"lower right\")\n",
    "plt.show()"
   ]
  },
  {
   "cell_type": "code",
   "execution_count": 11,
   "metadata": {},
   "outputs": [
    {
     "data": {
      "image/png": "[encoded data removed]",
      "text/plain": [
       "<Figure size 432x288 with 1 Axes>"
      ]
     },
     "metadata": {
      "needs_background": "light"
     },
     "output_type": "display_data"
    }
   ],
   "source": [
    "plt.figure()\n",
    "plt.plot(fpr_a, tpr_a, color='darkorange', label='SVM, ROC curve (area = %0.2f)' %  auc_a)\n",
    "plt.plot(fpr_b, tpr_b, color='red', label='Naive Bayes, ROC curve (area = %0.2f)' %  auc_b)\n",
    "plt.plot([0, 1], [0, 1], color='navy', linestyle='--')\n",
    "plt.xlabel('False Positive Rate')\n",
    "plt.ylabel('True Positive Rate')\n",
    "plt.legend(loc=\"lower right\")\n",
    "plt.show()"
   ]
  },
  {
   "cell_type": "markdown",
   "metadata": {},
   "source": [
    "## Model evaluation\n",
    "\n",
    "Confusion matrix: \n",
    "\n",
    "|  | predicted negative | predicted positive |\n",
    "|:--- | :---: | :---: |\n",
    "| actual negative | TN | FP|\n",
    "| actual positive | FN | TP|\n",
    "\n",
    "- Sensitivity = Recall =  $ \\frac{TP}{TP+FN} $ \n",
    "- Specificity = $ \\frac{TN}{TN +FP} $\n",
    "- Precision = $ \\frac{TP}{TP+FP}$ \n",
    "- f1-score = $ \\frac{2*precision*recall}{precision+recall}$\n",
    "\n",
    "#### What is the evaluation metric we should use in this problem?"
   ]
  },
  {
   "cell_type": "markdown",
   "metadata": {},
   "source": [
    "### Comparison between two classifiers:"
   ]
  },
  {
   "cell_type": "code",
   "execution_count": 12,
   "metadata": {
    "scrolled": true
   },
   "outputs": [
    {
     "name": "stdout",
     "output_type": "stream",
     "text": [
      "------ 1 ------\n",
      "Classifier:  SVC(C=0.9, probability=True)\n",
      "Accuracy:  0.8444444444444444\n",
      "Classifier:  GaussianNB()\n",
      "Accuracy:  0.7888888888888889\n",
      "------ 2 ------\n",
      "Classifier:  SVC(C=0.9, probability=True)\n",
      "Accuracy:  0.8089887640449438\n",
      "Classifier:  GaussianNB()\n",
      "Accuracy:  0.7752808988764045\n",
      "------ 3 ------\n",
      "Classifier:  SVC(C=0.9, probability=True)\n",
      "Accuracy:  0.8539325842696629\n",
      "Classifier:  GaussianNB()\n",
      "Accuracy:  0.8202247191011236\n",
      "------ 4 ------\n",
      "Classifier:  SVC(C=0.9, probability=True)\n",
      "Accuracy:  0.797752808988764\n",
      "Classifier:  GaussianNB()\n",
      "Accuracy:  0.7865168539325843\n",
      "------ 5 ------\n",
      "Classifier:  SVC(C=0.9, probability=True)\n",
      "Accuracy:  0.8764044943820225\n",
      "Classifier:  GaussianNB()\n",
      "Accuracy:  0.8314606741573034\n",
      "------ 6 ------\n",
      "Classifier:  SVC(C=0.9, probability=True)\n",
      "Accuracy:  0.8651685393258427\n",
      "Classifier:  GaussianNB()\n",
      "Accuracy:  0.8426966292134831\n",
      "------ 7 ------\n",
      "Classifier:  SVC(C=0.9, probability=True)\n",
      "Accuracy:  0.7865168539325843\n",
      "Classifier:  GaussianNB()\n",
      "Accuracy:  0.7752808988764045\n",
      "------ 8 ------\n",
      "Classifier:  SVC(C=0.9, probability=True)\n",
      "Accuracy:  0.797752808988764\n",
      "Classifier:  GaussianNB()\n",
      "Accuracy:  0.7640449438202247\n",
      "------ 9 ------\n",
      "Classifier:  SVC(C=0.9, probability=True)\n",
      "Accuracy:  0.7752808988764045\n",
      "Classifier:  GaussianNB()\n",
      "Accuracy:  0.7528089887640449\n",
      "------ 10 ------\n",
      "Classifier:  SVC(C=0.9, probability=True)\n",
      "Accuracy:  0.8876404494382022\n",
      "Classifier:  GaussianNB()\n",
      "Accuracy:  0.8764044943820225\n"
     ]
    }
   ],
   "source": [
    "clf_list = [clf_a,clf_b]\n",
    "cm_dict, auc_dict = {}, {}\n",
    "X = X.to_numpy()\n",
    "kf = KFold(n_splits=10, shuffle=True, random_state=42) #for cross validation\n",
    "k = 0\n",
    "for train_index, test_index in kf.split(X):\n",
    "    k+=1\n",
    "    print(\"------\",k,\"------\")\n",
    "    # split to train and test\n",
    "    X_train, X_test = X[train_index], X[test_index]\n",
    "    y_train, y_test = y[train_index], y[test_index]\n",
    "    for clf in clf_list:\n",
    "        # train the model and make a prediction\n",
    "        clf.fit(X_train,y_train)\n",
    "        y_pred = clf.predict(X_test)\n",
    "        cm = metrics.confusion_matrix(y_test, y_pred)\n",
    "        y_probs = clf.predict_proba(X_test) # probability prediction\n",
    "        fpr, tpr, _ = metrics.roc_curve(y_test, y_probs[:,1])\n",
    "        auc = metrics.auc(fpr, tpr)\n",
    "        # save the results\n",
    "        cm_list = cm_dict.get(clf,[])\n",
    "        cm_list.append(cm)\n",
    "        cm_dict[clf] = cm_list\n",
    "        auc_list = auc_dict.get(clf,[])\n",
    "        auc_list.append(auc)\n",
    "        auc_dict[clf] = auc_list\n",
    "        # print the results\n",
    "        print(\"Classifier: \", clf)\n",
    "        print(\"Accuracy: \", metrics.accuracy_score(y_test, y_pred))"
   ]
  },
  {
   "cell_type": "code",
   "execution_count": 13,
   "metadata": {},
   "outputs": [
    {
     "data": {
      "text/plain": [
       "[0.8878600823045267,\n",
       " 0.8596491228070176,\n",
       " 0.8721413721413722,\n",
       " 0.7994350282485876,\n",
       " 0.8673890608875129,\n",
       " 0.9013157894736842,\n",
       " 0.7746212121212122,\n",
       " 0.817099567099567,\n",
       " 0.8244897959183674,\n",
       " 0.8931250000000001]"
      ]
     },
     "execution_count": 13,
     "metadata": {},
     "output_type": "execute_result"
    }
   ],
   "source": [
    "auc_dict[clf_a]"
   ]
  },
  {
   "cell_type": "markdown",
   "metadata": {},
   "source": [
    "### Print average results:"
   ]
  },
  {
   "cell_type": "code",
   "execution_count": 14,
   "metadata": {},
   "outputs": [
    {
     "name": "stdout",
     "output_type": "stream",
     "text": [
      "SVC(C=0.9, probability=True)\n",
      "mean accuracy:  0.8293882646691635\n",
      "mean recall:  0.7230136428294323\n",
      "mean AUC:  0.8497126031001848\n",
      "GaussianNB()\n",
      "mean accuracy:  0.8013607990012485\n",
      "mean recall:  0.7843470300443985\n",
      "mean AUC:  0.8427647038703929\n"
     ]
    }
   ],
   "source": [
    "acc_dict = {}\n",
    "recall_dict = {}\n",
    "for clf in clf_list:\n",
    "    print(clf)\n",
    "    acc = [(cm[0][0]+cm[1][1])/sum(sum(cm)) for cm in cm_dict[clf]]\n",
    "    acc_dict[clf] = acc \n",
    "    print(\"mean accuracy: \", np.mean(acc))\n",
    "    recall = [(cm[1][1])/(cm[1][1]+cm[1][0]) for cm in cm_dict[clf]]\n",
    "    recall_dict[clf] = recall\n",
    "    print(\"mean recall: \", np.mean(recall))\n",
    "    print(\"mean AUC: \", np.mean(auc_dict[clf]))"
   ]
  },
  {
   "cell_type": "markdown",
   "metadata": {},
   "source": [
    "### Statistical Significance Tests\n",
    "Two-sided test for the null hypothesis that two related or repeated samples have identical average (expected) values."
   ]
  },
  {
   "cell_type": "code",
   "execution_count": 15,
   "metadata": {},
   "outputs": [
    {
     "name": "stdout",
     "output_type": "stream",
     "text": [
      "p-value: 0.00023631157612405545\n",
      "reject null hypothesis\n"
     ]
    }
   ],
   "source": [
    "ttest,pval = stats.ttest_rel(acc_dict[clf_a], acc_dict[clf_b])\n",
    "print(\"p-value:\" , pval)\n",
    "if pval<0.05:\n",
    "    print(\"reject null hypothesis\")\n",
    "else:\n",
    "    print(\"accept null hypothesis\")"
   ]
  },
  {
   "cell_type": "code",
   "execution_count": 16,
   "metadata": {},
   "outputs": [
    {
     "name": "stdout",
     "output_type": "stream",
     "text": [
      "p-value: 0.0023422737169285805\n",
      "reject null hypothesis\n"
     ]
    }
   ],
   "source": [
    "ttest,pval = stats.ttest_rel(recall_dict[clf_a], recall_dict[clf_b])\n",
    "print(\"p-value:\" , pval)\n",
    "if pval<0.05:\n",
    "    print(\"reject null hypothesis\")\n",
    "else:\n",
    "    print(\"accept null hypothesis\")"
   ]
  },
  {
   "cell_type": "code",
   "execution_count": 17,
   "metadata": {},
   "outputs": [
    {
     "name": "stdout",
     "output_type": "stream",
     "text": [
      "p-value: 0.4263179458381151\n",
      "accept null hypothesis\n"
     ]
    }
   ],
   "source": [
    "ttest,pval = stats.ttest_rel(auc_dict[clf_a], auc_dict[clf_b])\n",
    "print(\"p-value:\" , pval)\n",
    "if pval<0.05:\n",
    "    print(\"reject null hypothesis\")\n",
    "else:\n",
    "    print(\"accept null hypothesis\")"
   ]
  }
 ],
 "metadata": {
  "kernelspec": {
   "display_name": "Python 3",
   "language": "python",
   "name": "python3"
  },
  "language_info": {
   "codemirror_mode": {
    "name": "ipython",
    "version": 3
   },
   "file_extension": ".py",
   "mimetype": "text/x-python",
   "name": "python",
   "nbconvert_exporter": "python",
   "pygments_lexer": "ipython3",
   "version": "3.8.5"
  }
 },
 "nbformat": 4,
 "nbformat_minor": 4
}
