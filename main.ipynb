{
 "cells": [
  {
   "cell_type": "code",
   "execution_count": 3,
   "metadata": {},
   "outputs": [
    {
     "data": {
      "text/plain": [
       "5"
      ]
     },
     "execution_count": 3,
     "metadata": {},
     "output_type": "execute_result"
    }
   ],
   "source": [
    "import numpy as np\n",
    "import pandas as pd\n",
    "\n",
    "data_path = \"Marketing_Campaign_Train.csv\"\n",
    "\n",
    "data = pd.read_csv(data_path)\n"
   ]
  }
 ],
 "metadata": {
  "interpreter": {
   "hash": "dda3e1c325d09babf0574d6830a5d2daa5519e0e1145bf15f6dd6598cc1f3d9a"
  },
  "kernelspec": {
   "display_name": "Python 3.10.1 ('datamine': venv)",
   "language": "python",
   "name": "python3"
  },
  "language_info": {
   "codemirror_mode": {
    "name": "ipython",
    "version": 3
   },
   "file_extension": ".py",
   "mimetype": "text/x-python",
   "name": "python",
   "nbconvert_exporter": "python",
   "pygments_lexer": "ipython3",
   "version": "3.10.1"
  },
  "orig_nbformat": 4
 },
 "nbformat": 4,
 "nbformat_minor": 2
}
